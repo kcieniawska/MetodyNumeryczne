{
 "cells": [
  {
   "cell_type": "markdown",
   "id": "different-patrol",
   "metadata": {},
   "source": [
    "# Błędy numeryczne"
   ]
  },
  {
   "cell_type": "markdown",
   "id": "laughing-breeding",
   "metadata": {},
   "source": [
    "Zagadnienia:\n",
    "* Reprezentacja liczb w komputerze:\n",
    "    * Zapis stałoprzecinkowy,\n",
    "    * Zapis zmiennoprzecinkowy (standard IEEE 754),\n",
    "* Błędy numeryczne:\n",
    "    * Błąd względny i bezwzględny.\n",
    "    * Błąd zaokrąglenia (ang. *round-off error*).\n",
    "    * Błąd obcięcia (ang. *truncation error*).\n",
    "    * Błędy związane z przyjętym sposobem rozwiązywania."
   ]
  },
  {
   "cell_type": "markdown",
   "id": "rotary-frank",
   "metadata": {},
   "source": [
    "## Błąd względny i bezwzględny"
   ]
  },
  {
   "cell_type": "markdown",
   "id": "actual-representation",
   "metadata": {},
   "source": [
    "***Zadanie 1.***  \n",
    "Liczbę $\\textrm{e}$ możemy zdefiniować jako $\\sum\\limits_{n=0}^{\\infty} \\frac{1}{n!}$. Oblicz błąd względny i bezwzględny aproksymacji liczby $\\textrm{e}$ poprzez $\\textrm{e}^{*}$ w przypadku gdy:  \n",
    "* $\\textrm{e}_1^{*}=\\sum\\limits_{n=0}^{5} \\frac{1}{n!}$    \n",
    "\n",
    "* $\\textrm{e}_2^{*}=\\sum\\limits_{n=0}^{10} \\frac{1}{n!}$  \n",
    "\n",
    "* $\\textrm{e}_3^{*}=\\sum\\limits_{n=0}^{20} \\frac{1}{n!}$  "
   ]
  },
  {
   "cell_type": "code",
   "execution_count": 25,
   "id": "chinese-mathematics",
   "metadata": {},
   "outputs": [
    {
     "name": "stdout",
     "output_type": "stream",
     "text": [
      "Aproksymacja e_1^* (n=5): 2.716666666666667\n",
      "Błąd bezwzględny: 0.0016151617923783057\n",
      "Błąd względny: 0.0005941848175815963\n",
      "\n",
      "Aproksymacja e_2^* (n=10): 2.7182818011463845\n",
      "Błąd bezwzględny: 2.7312660577649694e-08\n",
      "Błąd względny: 1.0047766310211053e-08\n",
      "\n",
      "Aproksymacja e_3^* (n=20): 2.718281828459045\n",
      "Błąd bezwzględny: 0.0\n",
      "Błąd względny: 0.0\n"
     ]
    }
   ],
   "source": [
    "import math\n",
    "\n",
    "# Funkcja obliczająca aproksymację liczby e\n",
    "def calculate_e_approximation(n):\n",
    "    e_approx = sum(1 / math.factorial(i) for i in range(n+1))\n",
    "    return e_approx\n",
    "\n",
    "# Prawdziwa wartość liczby e\n",
    "e_true = math.e\n",
    "\n",
    "# Aproksymacje dla różnych n\n",
    "e_1_star = calculate_e_approximation(5)\n",
    "e_2_star = calculate_e_approximation(10)\n",
    "e_3_star = calculate_e_approximation(20)\n",
    "\n",
    "# Obliczanie błędów bezwzględnych i względnych\n",
    "abs_error_1 = abs(e_true - e_1_star)\n",
    "rel_error_1 = abs_error_1 / abs(e_true)\n",
    "\n",
    "abs_error_2 = abs(e_true - e_2_star)\n",
    "rel_error_2 = abs_error_2 / abs(e_true)\n",
    "\n",
    "abs_error_3 = abs(e_true - e_3_star)\n",
    "rel_error_3 = abs_error_3 / abs(e_true)\n",
    "\n",
    "# Wyświetlanie wyników\n",
    "print(f\"Aproksymacja e_1^* (n=5): {e_1_star}\")\n",
    "print(f\"Błąd bezwzględny: {abs_error_1}\")\n",
    "print(f\"Błąd względny: {rel_error_1}\")\n",
    "\n",
    "print(f\"\\nAproksymacja e_2^* (n=10): {e_2_star}\")\n",
    "print(f\"Błąd bezwzględny: {abs_error_2}\")\n",
    "print(f\"Błąd względny: {rel_error_2}\")\n",
    "\n",
    "print(f\"\\nAproksymacja e_3^* (n=20): {e_3_star}\")\n",
    "print(f\"Błąd bezwzględny: {abs_error_3}\")\n",
    "print(f\"Błąd względny: {rel_error_3}\")\n"
   ]
  },
  {
   "cell_type": "markdown",
   "id": "fiscal-momentum",
   "metadata": {},
   "source": [
    "## Zapis zmiennoprzecinkowy"
   ]
  },
  {
   "cell_type": "markdown",
   "id": "final-venezuela",
   "metadata": {},
   "source": [
    "**Uwaga**: Używane tu pojęcie **cecha** ma inne znaczenie, niż poznane być może w szkole – skrótowo: „część całkowita”. Dlatego poniżej dodawane jest inne określenie – „wykładnik”."
   ]
  },
  {
   "cell_type": "code",
   "execution_count": 9,
   "id": "painful-monitoring",
   "metadata": {},
   "outputs": [],
   "source": [
    "import numpy as np\n",
    "import matplotlib.pyplot as plt\n",
    "import sys"
   ]
  },
  {
   "cell_type": "code",
   "execution_count": 10,
   "id": "collectible-survivor",
   "metadata": {
    "scrolled": true
   },
   "outputs": [
    {
     "name": "stdout",
     "output_type": "stream",
     "text": [
      "Machine parameters for float64\n",
      "---------------------------------------------------------------\n",
      "precision =  15   resolution = 1.0000000000000001e-15\n",
      "machep =    -52   eps =        2.2204460492503131e-16\n",
      "negep =     -53   epsneg =     1.1102230246251565e-16\n",
      "minexp =  -1022   tiny =       2.2250738585072014e-308\n",
      "maxexp =   1024   max =        1.7976931348623157e+308\n",
      "nexp =       11   min =        -max\n",
      "smallest_normal = 2.2250738585072014e-308   smallest_subnormal = 4.9406564584124654e-324\n",
      "---------------------------------------------------------------\n",
      "\n"
     ]
    }
   ],
   "source": [
    "print(np.finfo(float))\n",
    "eps = np.finfo(float).eps"
   ]
  },
  {
   "cell_type": "markdown",
   "id": "registered-immigration",
   "metadata": {},
   "source": [
    "***Zadanie 2.***\n",
    "\n",
    "\n",
    "a) Wstaw dowolną wartość do liczby x, np. 0.1. Które liczby mają tę samą mantysę, a które tę samą cechę (wykładnik)? Sprawdź wypisując ich wartości w formacie hex.\n"
   ]
  },
  {
   "cell_type": "markdown",
   "id": "sapphire-tuesday",
   "metadata": {},
   "source": [
    "**Uwaga:** Do odczytania liczby w formacie szesnastkowym możesz wykorzystać funkcję:"
   ]
  },
  {
   "cell_type": "code",
   "execution_count": null,
   "id": "7a080a65",
   "metadata": {},
   "outputs": [],
   "source": []
  },
  {
   "cell_type": "code",
   "execution_count": 11,
   "id": "concrete-webmaster",
   "metadata": {},
   "outputs": [
    {
     "data": {
      "text/plain": [
       "'0x1.4000000000000p+0'"
      ]
     },
     "execution_count": 11,
     "metadata": {},
     "output_type": "execute_result"
    }
   ],
   "source": [
    "1.25.hex()"
   ]
  },
  {
   "cell_type": "code",
   "execution_count": 12,
   "id": "96e3aec4",
   "metadata": {},
   "outputs": [
    {
     "data": {
      "text/plain": [
       "'0x1.3880000000000p+12'"
      ]
     },
     "execution_count": 12,
     "metadata": {},
     "output_type": "execute_result"
    }
   ],
   "source": [
    "5000.0.hex()"
   ]
  },
  {
   "cell_type": "markdown",
   "id": "constant-sphere",
   "metadata": {},
   "source": [
    "lub"
   ]
  },
  {
   "cell_type": "code",
   "execution_count": 13,
   "id": "humanitarian-somerset",
   "metadata": {},
   "outputs": [],
   "source": [
    "import struct\n",
    "def double_to_hex(f):\n",
    "    print(hex(struct.unpack('<Q', struct.pack('<d', f))[0]))"
   ]
  },
  {
   "cell_type": "code",
   "execution_count": 14,
   "id": "regular-possibility",
   "metadata": {
    "scrolled": true
   },
   "outputs": [
    {
     "name": "stdout",
     "output_type": "stream",
     "text": [
      "0x3ff4000000000000\n"
     ]
    }
   ],
   "source": [
    "double_to_hex(1.25)"
   ]
  },
  {
   "cell_type": "markdown",
   "id": "heated-session",
   "metadata": {},
   "source": [
    "Zamianę w drugą stronę można przeprowadzić za pomocą funkcji *int*"
   ]
  },
  {
   "cell_type": "code",
   "execution_count": 15,
   "id": "three-butler",
   "metadata": {},
   "outputs": [
    {
     "data": {
      "text/plain": [
       "1023"
      ]
     },
     "execution_count": 15,
     "metadata": {},
     "output_type": "execute_result"
    }
   ],
   "source": [
    "int('3ff', 16)"
   ]
  },
  {
   "cell_type": "code",
   "execution_count": 16,
   "id": "completed-vault",
   "metadata": {},
   "outputs": [
    {
     "name": "stdout",
     "output_type": "stream",
     "text": [
      "Liczba         Hex IEEE 754\n",
      "===================================\n",
      "0.1            0x3fb999999999999a\n",
      "0.2            0x3fc999999999999a\n",
      "0.05           0x3fa999999999999a\n",
      "0.033333333333333330x3fa1111111111111\n",
      "1.0            0x3ff0000000000000\n",
      "10.0           0x4024000000000000\n",
      "0.001          0x3f50624dd2f1a9fc\n",
      "1e-05          0x3ee4f8b588e368f1\n"
     ]
    }
   ],
   "source": [
    "import struct\n",
    "\n",
    "# Funkcja do konwersji liczby zmiennoprzecinkowej na zapis szesnastkowy IEEE 754\n",
    "def double_to_hex(f):\n",
    "    return hex(struct.unpack('<Q', struct.pack('<d', f))[0])\n",
    "\n",
    "# Lista wartości do analizy\n",
    "values = [0.1, 0.2, 0.05, 0.03333333333333333, 1.0, 10.0, 0.001, 1e-05]\n",
    "\n",
    "# Tworzenie tabeli wyników\n",
    "print(f\"{'Liczba':<15}{'Hex IEEE 754'}\")\n",
    "print(\"=\" * 35)\n",
    "\n",
    "for val in values:\n",
    "    print(f\"{val:<15}{double_to_hex(val)}\")\n"
   ]
  },
  {
   "cell_type": "markdown",
   "id": "higher-router",
   "metadata": {},
   "source": [
    "\n",
    "\n",
    "b) Porównaj zapis liczb 0.1, 0.2 i 0.3 w formacie zmiennoprzecinkowym.\n",
    "\n",
    "* Czy można przewidzieć, czy suma 0.1 + 0.2 będzie reprezentowana dokładnie tak samo jak liczba 0.3?\n",
    "* Jaki będzie wynik porównania tej sumy z liczbą 0.3 i konsekwencje użycia warunku równościowego / nierównościowego w pętli?\n",
    "\n"
   ]
  },
  {
   "cell_type": "code",
   "execution_count": 17,
   "id": "limiting-paradise",
   "metadata": {},
   "outputs": [
    {
     "name": "stdout",
     "output_type": "stream",
     "text": [
      "0.1 -> 0x3fb999999999999a\n",
      "0.2 -> 0x3fc999999999999a\n",
      "0.3 -> 0x3fd3333333333333\n",
      "0.1 + 0.2 -> 0x3fd3333333333334\n"
     ]
    }
   ],
   "source": [
    "import struct\n",
    "\n",
    "def double_to_hex(f):\n",
    "    return hex(struct.unpack('<Q', struct.pack('<d', f))[0])\n",
    "\n",
    "# Sprawdzenie reprezentacji liczb\n",
    "print(\"0.1 ->\", double_to_hex(0.1))\n",
    "print(\"0.2 ->\", double_to_hex(0.2))\n",
    "print(\"0.3 ->\", double_to_hex(0.3))\n",
    "print(\"0.1 + 0.2 ->\", double_to_hex(0.1 + 0.2))\n"
   ]
  },
  {
   "cell_type": "markdown",
   "id": "brutal-windows",
   "metadata": {},
   "source": [
    "c) Przyjmijmy, że „skrótowe” określenie *liczba dokładnie reprezentowana* oznacza liczbę, która jest reprezentowana w formacie zmiennoprzecinkowym dokładnie, tzn. bez konieczności zaokrąglania.\n",
    "* Ile jest liczb dokładnie reprezentowanych w przedziale $[1, 2)$?\n",
    "* Zaobserwuj (z pomocą formatu hex) jakie wartości mają bity w polu mantysy w przypadku liczby 1.0.\n",
    "* Jaką liczbę trzeba dodać do 1.0, aby tylko na najmłodszej pozycji pola mantysy pojawiło się 1?\n",
    "* Czy wyżej otrzymana suma jest najmniejszą liczbą dokładnie reprezentowana, spośród liczb większych od 1?\n",
    "* Jak przypuszczasz, jakie wartości będą miały poszczególne bity mantysy w przypadku największej liczby dokładnie reprezentowanej, której cecha (wykładnik) jest równy 0? Sprawdź, czy tak jest rzeczywiście – wpisując wartość tej liczby (jaka to jest wartość?).\n"
   ]
  },
  {
   "cell_type": "code",
   "execution_count": 26,
   "id": "operating-cotton",
   "metadata": {},
   "outputs": [
    {
     "name": "stdout",
     "output_type": "stream",
     "text": [
      "Reprezentacja liczby 1.0:\n",
      "0x3ff0000000000000\n",
      "Najmniejsza liczba, którą trzeba dodać do 1.0, aby zmienić najmłodszy bit mantysy: 2.220446049250313e-16\n",
      "Reprezentacja tej liczby: 0x3ff0000000000001\n",
      "Najmniejsza liczba dokładnie reprezentowana większa od 1: 1.0000000000000002\n",
      "Reprezentacja w formacie hex: 0x3ff0000000000001\n",
      "Reprezentacja liczby 2.0: 0x4000000000000000\n"
     ]
    }
   ],
   "source": [
    "import struct\n",
    "\n",
    "# Funkcja do konwersji liczby zmiennoprzecinkowej na zapis hex\n",
    "def double_to_hex(f):\n",
    "    return hex(struct.unpack('<Q', struct.pack('<d', f))[0])\n",
    "\n",
    "# 1. Obserwacja liczby 1.0\n",
    "print(\"Reprezentacja liczby 1.0:\")\n",
    "print(double_to_hex(1.0))\n",
    "\n",
    "# 2. Jaka liczba musi być dodana do 1.0, aby tylko najmłodsza pozycja mantysy była 1?\n",
    "epsilon = 2**-52  # Najmniejsza zmiana, która zmienia najmłodszy bit mantysy\n",
    "print(f\"Najmniejsza liczba, którą trzeba dodać do 1.0, aby zmienić najmłodszy bit mantysy: {epsilon}\")\n",
    "print(\"Reprezentacja tej liczby:\", double_to_hex(1.0 + epsilon))\n",
    "\n",
    "# 3. Najmniejsza liczba dokładnie reprezentowana, większa od 1\n",
    "next_after_1 = 1.0 + epsilon\n",
    "print(f\"Najmniejsza liczba dokładnie reprezentowana większa od 1: {next_after_1}\")\n",
    "print(\"Reprezentacja w formacie hex:\", double_to_hex(next_after_1))\n",
    "\n",
    "# 4. Sprawdzanie największej liczby dokładnie reprezentowanej z wykładnikiem 0\n",
    "# Największa liczba dokładnie reprezentowana, której wykładnik wynosi 0, to 2.0\n",
    "print(\"Reprezentacja liczby 2.0:\", double_to_hex(2.0))\n"
   ]
  },
  {
   "cell_type": "markdown",
   "id": "straight-institute",
   "metadata": {},
   "source": [
    "d) Oblicz długości przedziałów, do których należą wszystkie liczby mające cechę (wykładnik) równy: 0, 1, 2, 5, -1, -3.\n",
    "\n",
    "* Czy w każdym z tych przedziałów jest tyle samo liczb dokładnie reprezentowanych? Jeżeli nie, to ile w każdym z nich?\n",
    "* Jaka jest odległość między dwoma sąsiednimi liczbami dokładnie reprezentowanymi (odległość, czyli różnica ich wartości) w każdym z tych przedziałów?\n",
    "* Jaki jest maksymalny błąd bezwzględny zaokrąglenia w każdym z tych przedziałów?\n",
    "* Jaki jest maksymalny błąd względny zaokrąglenia w każdym z tych przedziałów?\n",
    "\n",
    "\n",
    "\n"
   ]
  },
  {
   "cell_type": "code",
   "execution_count": 27,
   "id": "confirmed-stream",
   "metadata": {},
   "outputs": [
    {
     "name": "stdout",
     "output_type": "stream",
     "text": [
      "Wykładnik: 0\n",
      "Długość przedziału: 2.220446049250313e-16\n",
      "Liczba dokładnie reprezentowanych liczb: 1\n",
      "Błąd bezwzględny: 2.220446049250313e-16\n",
      "Błąd względny: 2.220446049250313e-16\n",
      "\n",
      "Wykładnik: 1\n",
      "Długość przedziału: 4.440892098500626e-16\n",
      "Liczba dokładnie reprezentowanych liczb: 2\n",
      "Błąd bezwzględny: 4.440892098500626e-16\n",
      "Błąd względny: 2.220446049250313e-16\n",
      "\n",
      "Wykładnik: 2\n",
      "Długość przedziału: 8.881784197001252e-16\n",
      "Liczba dokładnie reprezentowanych liczb: 4\n",
      "Błąd bezwzględny: 8.881784197001252e-16\n",
      "Błąd względny: 2.220446049250313e-16\n",
      "\n",
      "Wykładnik: 5\n",
      "Długość przedziału: 7.105427357601002e-15\n",
      "Liczba dokładnie reprezentowanych liczb: 32\n",
      "Błąd bezwzględny: 7.105427357601002e-15\n",
      "Błąd względny: 2.220446049250313e-16\n",
      "\n",
      "Wykładnik: -1\n",
      "Długość przedziału: 1.1102230246251565e-16\n",
      "Liczba dokładnie reprezentowanych liczb: 0\n",
      "Błąd bezwzględny: 1.1102230246251565e-16\n",
      "Błąd względny: 2.220446049250313e-16\n",
      "\n",
      "Wykładnik: -3\n",
      "Długość przedziału: 2.7755575615628914e-17\n",
      "Liczba dokładnie reprezentowanych liczb: 0\n",
      "Błąd bezwzględny: 2.7755575615628914e-17\n",
      "Błąd względny: 2.220446049250313e-16\n",
      "\n"
     ]
    }
   ],
   "source": [
    "import numpy as np\n",
    "import struct\n",
    "\n",
    "# Funkcja konwertująca liczbę zmiennoprzecinkową na hex (do analizy)\n",
    "def double_to_hex(f):\n",
    "    return hex(struct.unpack('<Q', struct.pack('<d', f))[0])\n",
    "\n",
    "# Funkcja obliczająca różnicę między kolejnymi liczbami w danym przedziale wykładników\n",
    "def calc_interval_size(exponent):\n",
    "    # Zaczynamy od 1.0 + epsilon\n",
    "    epsilon = 2**-52  # Najmniejsza zmiana w mantysie\n",
    "    lower = 1.0 * 2**exponent\n",
    "    upper = lower + epsilon * 2**exponent\n",
    "    return upper - lower\n",
    "\n",
    "# Funkcja obliczająca błąd bezwzględny i względny\n",
    "def calc_errors(real, approx):\n",
    "    abs_error = abs(real - approx)\n",
    "    rel_error = abs_error / abs(real) if real != 0 else float('inf')\n",
    "    return abs_error, rel_error\n",
    "\n",
    "# Funkcja obliczająca liczbę dokładnie reprezentowanych liczb w przedziale\n",
    "def count_exact_representations(exponent):\n",
    "    epsilon = 2**-52  # Najmniejsza zmiana w mantysie\n",
    "    lower = 1.0 * 2**exponent\n",
    "    upper = lower + epsilon * 2**exponent\n",
    "    count = (upper - lower) / epsilon\n",
    "    return int(count)\n",
    "\n",
    "# Definiujemy wykładniki\n",
    "exponents = [0, 1, 2, 5, -1, -3]\n",
    "\n",
    "# Obliczamy długości przedziałów, liczbę reprezentowanych liczb, błędy\n",
    "for exponent in exponents:\n",
    "    print(f\"Wykładnik: {exponent}\")\n",
    "    \n",
    "    # Długość przedziału\n",
    "    interval_size = calc_interval_size(exponent)\n",
    "    print(f\"Długość przedziału: {interval_size}\")\n",
    "    \n",
    "    # Liczba dokładnie reprezentowanych liczb\n",
    "    exact_count = count_exact_representations(exponent)\n",
    "    print(f\"Liczba dokładnie reprezentowanych liczb: {exact_count}\")\n",
    "    \n",
    "    # Błąd bezwzględny i względny (dla przykładu 1.0 jako wartość rzeczywistą)\n",
    "    real_value = 1.0 * 2**exponent\n",
    "    approx_value = real_value + interval_size  # Symulujemy przybliżoną wartość\n",
    "    abs_error, rel_error = calc_errors(real_value, approx_value)\n",
    "    \n",
    "    print(f\"Błąd bezwzględny: {abs_error}\")\n",
    "    print(f\"Błąd względny: {rel_error}\")\n",
    "    print()\n"
   ]
  },
  {
   "cell_type": "markdown",
   "id": "toxic-sixth",
   "metadata": {},
   "source": [
    "***Zadanie 3.***\n",
    "\n",
    "Spójrz na poniższe zjawiska, zastanów się nad ich przyczynami."
   ]
  },
  {
   "cell_type": "markdown",
   "id": "further-freedom",
   "metadata": {},
   "source": [
    "***Problem skali***"
   ]
  },
  {
   "cell_type": "markdown",
   "id": "removable-victory",
   "metadata": {},
   "source": [
    "Jaki wynika da poniższy kod:"
   ]
  },
  {
   "cell_type": "code",
   "execution_count": 18,
   "id": "adjusted-delivery",
   "metadata": {},
   "outputs": [
    {
     "name": "stdout",
     "output_type": "stream",
     "text": [
      "1.00000000000000000\n"
     ]
    }
   ],
   "source": [
    "a = 1.0\n",
    "b = 0.0000000000000000000000001\n",
    "c = a + b\n",
    "print(f'{c:.17f}')"
   ]
  },
  {
   "cell_type": "markdown",
   "id": "secret-raise",
   "metadata": {},
   "source": [
    "***Problem reprezentacji w zapisie binarnym*** "
   ]
  },
  {
   "cell_type": "code",
   "execution_count": 19,
   "id": "f6596f1a",
   "metadata": {},
   "outputs": [
    {
     "name": "stdout",
     "output_type": "stream",
     "text": [
      "False\n"
     ]
    }
   ],
   "source": [
    "if 0.1+0.2==0.3:\n",
    "    print(\"True\")\n",
    "else:\n",
    "    print(\"False\")"
   ]
  },
  {
   "cell_type": "code",
   "execution_count": 20,
   "id": "cross-ranch",
   "metadata": {},
   "outputs": [
    {
     "name": "stdout",
     "output_type": "stream",
     "text": [
      "9.999999999999980\n"
     ]
    }
   ],
   "source": [
    "suma = 0\n",
    "for i in range(0,100):\n",
    "    suma += 0.1\n",
    "print(f'{suma:.15f}')"
   ]
  },
  {
   "cell_type": "markdown",
   "id": "56086598",
   "metadata": {},
   "source": [
    "**Zadanie 4.**"
   ]
  },
  {
   "cell_type": "markdown",
   "id": "35804ff5",
   "metadata": {},
   "source": [
    "Niech:\n",
    "* $a=0.3$\n",
    "* $b=10^{-13}$\n",
    "* $c=a-b$\n",
    "* $d=a-c$\n",
    "\n",
    "Czy $b$ i $d$ są sobie równe w sensie analitycznym? Co z przypadkiem numerycznym? Zdefiniuj odpowiednie zmienne i porównaj wyniki. Porównaj szesnastkowe i dziesietne reprezentacje zmiennych `b` i `d`. Ile cyfr w reprezentacji `d` możemy uznać za wiarygodne?"
   ]
  },
  {
   "cell_type": "code",
   "execution_count": 21,
   "id": "47593036",
   "metadata": {},
   "outputs": [
    {
     "name": "stdout",
     "output_type": "stream",
     "text": [
      "a = 0.3\n",
      "b = 1e-13\n",
      "c = 0.2999999999999\n",
      "d = 9.997558336749535e-14\n",
      "b == d -> False\n",
      "b (hex) -> 0x3d3c25c268497682\n",
      "d (hex) -> 0x3d3c240000000000\n"
     ]
    }
   ],
   "source": [
    "import struct\n",
    "\n",
    "# Funkcja do konwersji liczby zmiennoprzecinkowej na zapis szesnastkowy IEEE 754\n",
    "def double_to_hex(f):\n",
    "    return hex(struct.unpack('<Q', struct.pack('<d', f))[0])\n",
    "\n",
    "# Definicja zmiennych\n",
    "a = 0.3\n",
    "b = 1e-13\n",
    "c = a - b\n",
    "d = a - c\n",
    "\n",
    "# Porównanie wartości analitycznych i numerycznych\n",
    "b_equals_d = (b == d)\n",
    "\n",
    "# Wypisanie wyników\n",
    "print(f\"a = {a}\")\n",
    "print(f\"b = {b}\")\n",
    "print(f\"c = {c}\")\n",
    "print(f\"d = {d}\")\n",
    "print(f\"b == d -> {b_equals_d}\")\n",
    "print(f\"b (hex) -> {double_to_hex(b)}\")\n",
    "print(f\"d (hex) -> {double_to_hex(d)}\")\n"
   ]
  },
  {
   "cell_type": "markdown",
   "id": "57bcce2e",
   "metadata": {},
   "source": [
    "**Zadanie 5.**"
   ]
  },
  {
   "cell_type": "markdown",
   "id": "33dd498c",
   "metadata": {},
   "source": [
    "Rozważmy macierz kwadratową:\n",
    "$$ A=\\left[\\begin{array}{ccc}\n",
    "\\sqrt{2} & \\frac{1}{7}\\\\\n",
    "\\pi\\sqrt{2} &\\frac{\\pi}{7}\\\\\n",
    "\\end{array}\\right]\n",
    "$$\n",
    "* Czy jest to macierz osobliwa? Jak to sprawdzić?\n",
    "* Oblicz wyznacznik tej macierzy w sposób analityczny i numeryczny (`np.linalg.det`). Czy otrzymałeś te same wartości? Czy wyniki obliczeń numerycznych prowadzą do poprawnej odpowiedzi na pierwsze pytanie? Jakie może to mieć skutki?"
   ]
  },
  {
   "cell_type": "code",
   "execution_count": 22,
   "id": "7b46d638",
   "metadata": {},
   "outputs": [
    {
     "name": "stdout",
     "output_type": "stream",
     "text": [
      "Wyznacznik numeryczny: 0.0\n"
     ]
    }
   ],
   "source": [
    "import numpy as np\n",
    "\n",
    "A = np.array([[np.sqrt(2), 1/7], [np.pi*np.sqrt(2), np.pi/7]])\n",
    "det_A = np.linalg.det(A)\n",
    "\n",
    "print(\"Wyznacznik numeryczny:\", det_A)"
   ]
  },
  {
   "cell_type": "markdown",
   "id": "4db8468c",
   "metadata": {},
   "source": [
    "**Zadanie 6.**"
   ]
  },
  {
   "cell_type": "markdown",
   "id": "e1f226f5",
   "metadata": {},
   "source": [
    "Jedną z metod rozwiązywania równań nieliniowych jest metoda Newtona. Metoda ta powtarza obliczenia, aż spełniony nie będzie warunek stopu. Jeżeli spełnione są odpowiednie założenia to metoda ta zbiega do rozwiązania. Załóżmy, że warunki są spełnione i rozważmy funkcję $f(x)=cos(x)-x$. Poniżej znajdziesz implementację metody Newtona, w której brakuje warunku stopu. Spróbuj go uzupełnić. Warunek powinien być spełniony w momencie, w którym chcemy zakończyć działanie procedury.\n",
    "\n",
    "Z matematycznego punktu widzenia znajdujemy się w zerze, jeżeli kolejne przybliżenia uzyskane z metody Newtona nie różnią się od siebie (np. dwa ostatnie). Zaimplementuj taki warunek i sprawdź, czy program zatrzyma się. Czy taki warunek stopu jest bezpieczny i można go stosować uniwersalnie? Jak można go poprawić?"
   ]
  },
  {
   "cell_type": "code",
   "execution_count": null,
   "id": "26eb839f",
   "metadata": {},
   "outputs": [],
   "source": [
    "def newton(f, f_prim, x_0):\n",
    "    x_prev = x_0\n",
    "    while True:\n",
    "        x_n=x_prev-(f(x_prev)/f_prim(x_prev))\n",
    "        print(f'x_0={x_n}')\n",
    "        double_to_hex(x_n)\n",
    "        \n",
    "        if True: # Zastąp True swoim warunkiem stopu\n",
    "            return x_n\n",
    "        else:\n",
    "            x_prev=x_n"
   ]
  },
  {
   "cell_type": "code",
   "execution_count": null,
   "id": "8c8e359e",
   "metadata": {},
   "outputs": [],
   "source": [
    "def f(x):\n",
    "    return # Uzupełnij definicję funkcji \n",
    "\n",
    "def f_prim(x):\n",
    "    return # Uzupełnij definicję pochodnej"
   ]
  },
  {
   "cell_type": "code",
   "execution_count": 23,
   "id": "03aa3df9",
   "metadata": {},
   "outputs": [
    {
     "name": "stdout",
     "output_type": "stream",
     "text": [
      "x_n=0.7503638678402439\n",
      "x_n=0.7391128909113617\n",
      "x_n=0.739085133385284\n",
      "x_n=0.7390851332151607\n",
      "x_n=0.7390851332151607\n",
      "Przybliżony pierwiastek: 0.7390851332151607\n"
     ]
    }
   ],
   "source": [
    "import numpy as np\n",
    "\n",
    "# Funkcja\n",
    "def f(x):\n",
    "    return np.cos(x) - x\n",
    "\n",
    "# Pochodna funkcji\n",
    "def f_prim(x):\n",
    "    return -np.sin(x) - 1\n",
    "\n",
    "# Implementacja metody Newtona\n",
    "def newton(f, f_prim, x_0, tol=1e-10, max_iter=100):\n",
    "    x_prev = x_0\n",
    "    for _ in range(max_iter):\n",
    "        x_n = x_prev - f(x_prev) / f_prim(x_prev)\n",
    "        print(f'x_n={x_n}')  # Podgląd iteracji\n",
    "        \n",
    "        # Warunek stopu: różnica mniejsza niż tolerancja\n",
    "        if abs(x_n - x_prev) < tol:\n",
    "            return x_n\n",
    "        \n",
    "        x_prev = x_n\n",
    "    \n",
    "    raise ValueError(\"Metoda Newtona nie zbiega w zadanej liczbie iteracji.\")\n",
    "\n",
    "# Wywołanie metody\n",
    "x_start = 1.0\n",
    "root = newton(f, f_prim, x_start)\n",
    "print(f\"Przybliżony pierwiastek: {root}\")\n"
   ]
  },
  {
   "cell_type": "markdown",
   "id": "republican-insider",
   "metadata": {},
   "source": [
    "**Zadanie domowe**  \n",
    "\n",
    "Dany jest ciąg:  \n",
    "  \n",
    "$G(p)=\\cfrac{1}{p}\\left[10^{p}\\left(1+p\\pi^{*} \\cdot 10^{-p}\\right)-10^{p}\\right],\\ p=1,2,3,\\dots,n $,\n",
    "w którym $\\pi^{*}$ jest przybliżeniem liczby $\\pi$ z dokładnością do 15 miejsc po przecinku.\n",
    "  \n",
    "Stwórz funkcję, która umożliwi obliczenie $n$ pierwszych wyrazów tego ciągu i zwróci je w postaci wektora (do przybliżenia wartości $\\pi$ możesz wykorzystać funkcję *[round](https://numpy.org/doc/stable/reference/generated/numpy.round_.html)*). Oblicz błąd bezwzględny i błąd względny otrzymanych wyników. Przedstaw rezultaty na wykresie w zależności od $n$. Wartości błędów przedstaw w skali logarytmicznej (funkcja *plt.semilogy()*).\n",
    "\n",
    "Przeanalizuj rozwiązanie i odpowiedz na następujące pytania:  \n",
    "* Czy w obliczeniach analitycznych wartość $G(p)$ zależy od $p$?\n",
    "* Jak zmienia się błąd w zależności od $n$? O czym to świadczy?\n",
    "* Z jakim/jakimi rodzajami błędu mamy do czynienie?\n"
   ]
  },
  {
   "cell_type": "code",
   "execution_count": 24,
   "id": "eba03d1e",
   "metadata": {},
   "outputs": [
    {
     "data": {
      "image/png": "[encoded data removed]",
      "text/plain": [
       "<Figure size 1000x600 with 2 Axes>"
      ]
     },
     "metadata": {},
     "output_type": "display_data"
    }
   ],
   "source": [
    "import numpy as np\n",
    "import matplotlib.pyplot as plt\n",
    "\n",
    "# Funkcja do obliczenia G(p)\n",
    "def G(p):\n",
    "    pi_approx = round(np.pi, 15)  # Przybliżenie liczby pi do 15 miejsc po przecinku\n",
    "    return (1/p) * (10**p * (1 + p * pi_approx * 10**(-p)) - 10**p)\n",
    "\n",
    "# Oblicz n pierwszych wyrazów ciągu G(p)\n",
    "def calculate_G(n):\n",
    "    values = np.array([G(p) for p in range(1, n+1)])\n",
    "    return values\n",
    "\n",
    "# Obliczanie błędów\n",
    "def calculate_errors(values, true_value):\n",
    "    abs_error = np.abs(values - true_value)\n",
    "    rel_error = abs_error / np.abs(true_value)\n",
    "    return abs_error, rel_error\n",
    "\n",
    "# Parametry\n",
    "n = 100  # Liczba wyrazów\n",
    "true_value = np.pi  # Rzeczywista wartość pi\n",
    "\n",
    "# Obliczanie ciągu G(p)\n",
    "G_values = calculate_G(n)\n",
    "\n",
    "# Obliczanie błędów\n",
    "abs_errors, rel_errors = calculate_errors(G_values, true_value)\n",
    "\n",
    "# Wykres błędów bezwzględnych i względnych w skali logarytmicznej\n",
    "plt.figure(figsize=(10, 6))\n",
    "\n",
    "# Błąd bezwzględny\n",
    "plt.subplot(2, 1, 1)\n",
    "plt.semilogy(np.arange(1, n+1), abs_errors, label=\"Błąd bezwzględny\")\n",
    "plt.xlabel('p')\n",
    "plt.ylabel('Błąd bezwzględny')\n",
    "plt.title('Błąd bezwzględny w skali logarytmicznej')\n",
    "plt.grid(True)\n",
    "\n",
    "# Błąd względny\n",
    "plt.subplot(2, 1, 2)\n",
    "plt.semilogy(np.arange(1, n+1), rel_errors, label=\"Błąd względny\", color='red')\n",
    "plt.xlabel('p')\n",
    "plt.ylabel('Błąd względny')\n",
    "plt.title('Błąd względny w skali logarytmicznej')\n",
    "plt.grid(True)\n",
    "\n",
    "plt.tight_layout()\n",
    "plt.show()\n"
   ]
  },
  {
   "cell_type": "code",
   "execution_count": null,
   "id": "regular-malpractice",
   "metadata": {},
   "outputs": [],
   "source": []
  }
 ],
 "metadata": {
  "kernelspec": {
   "display_name": "Python 3",
   "language": "python",
   "name": "python3"
  },
  "language_info": {
   "codemirror_mode": {
    "name": "ipython",
    "version": 3
   },
   "file_extension": ".py",
   "mimetype": "text/x-python",
   "name": "python",
   "nbconvert_exporter": "python",
   "pygments_lexer": "ipython3",
   "version": "3.12.0"
  }
 },
 "nbformat": 4,
 "nbformat_minor": 5
}
