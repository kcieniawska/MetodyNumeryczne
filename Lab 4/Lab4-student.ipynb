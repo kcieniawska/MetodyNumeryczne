{
 "cells": [
  {
   "cell_type": "markdown",
   "id": "numeric-california",
   "metadata": {},
   "source": [
    "# <center> Elementy numerycznej algebry liniowej </center>"
   ]
  },
  {
   "cell_type": "markdown",
   "id": "4a981f63",
   "metadata": {},
   "source": [
    "Rozwiązywanie układów równań liniowych jest jednym z podstawowych problemów metod numerycznych. Układy równań liniowych występują w wielu dziedzinach nauki i inżynierii. Stosuje się też w uczeniu maszynowym np. podczas regresji z błędem średniokwadratowym. \n",
    "\n",
    "\n",
    "Istnieje kilka metod rozwiązywania układów równań. Na dzisiejszych zajęciach zajmiemy się:\n",
    "* eliminacją Gaussa bez oraz z wyborem elementu głównego,\n",
    "* metodami iteracyjnymi.\n",
    "\n",
    "Problem rozwiązywania układu równań liniowych będzie nam towarzyszły do końca zajęć z tego przedmiotu."
   ]
  },
  {
   "cell_type": "markdown",
   "id": "56182a3b",
   "metadata": {},
   "source": [
    "## Normy i wskaźniki uwarunkowania"
   ]
  },
  {
   "cell_type": "markdown",
   "id": "38078700",
   "metadata": {},
   "source": [
    "Wrażliwość układu (zmiana rozwiązania) na niewielkie zaburzenia wektora `b` zależy od macierzy `A` i ocenia się ja za pomocą tzw. współczynnika lub [wskaźnika uwarunkowania macierzy](https://pl.wikipedia.org/wiki/Wskaźnik_uwarunkowania) (ang. *condition number*). Im wyższa wartość tego wskaźnika. tym macierz jest gorzej uwarunkowana. Wskaźnik uwarunkowania to iloczyn normy macierzy z normą jej odwrotności.\n",
    "\n",
    "$$cond(A)=|A|_{p}\\cdot|A^{-1}|_{p}$$\n",
    "gdzie *p* oznacza jedną z norm macierzy."
   ]
  },
  {
   "cell_type": "code",
   "execution_count": null,
   "id": "sudden-category",
   "metadata": {},
   "outputs": [],
   "source": [
    "import numpy as np\n",
    "import scipy\n",
    "import matplotlib.pyplot as plt"
   ]
  },
  {
   "cell_type": "markdown",
   "id": "acknowledged-howard",
   "metadata": {},
   "source": [
    "***Zadanie 1.***\n",
    "\n",
    "Porównaj normy 1,2, $\\infty$ następujących macierzy:\n",
    "* [Hilberta](https://pl.wikipedia.org/wiki/Macierz_Hilberta): o wymiarach 5x5 i 15x15\n",
    "* [Vandermonde'a](https://pl.wikipedia.org/wiki/Macierz_Vandermonde’a): o wymiarach 5x5 i 15x15\n",
    "* losowej o wartościach z przedziału [0,1]:  o wymiarach 5x5 i 15x15\n",
    "* $P=\\left[\\begin{array}{cccc}4 & 1 & -1 & 0 \\\\ 1 & 3 & -1 & 0 \\\\ -1 & -1 & 5 & 2 \\\\ 0 & 0 & 2 & 4\\end{array}\\right]$\n",
    "\n",
    "Czy wśród powyższych macierzy jest macierz [diagonalnie dominująca](https://pl.wikipedia.org/wiki/Macierz_przekątniowo_dominująca)?\n"
   ]
  },
  {
   "cell_type": "markdown",
   "id": "global-trauma",
   "metadata": {},
   "source": [
    "*Wskazówka: Do wyznaczenia norm możesz wykorzystać funkcję `numpy.linalg.norm`*"
   ]
  },
  {
   "cell_type": "code",
   "execution_count": null,
   "id": "9c22e114",
   "metadata": {},
   "outputs": [],
   "source": [
    "| Macierz               | ‖·‖₁       | ‖·‖₂       | ‖·‖∞    |\n",
    "| --------------------- | ---------- | ---------- | ------- |\n",
    "| **Hilbert 5×5**       | 2.2833     | 1.5671     | 2.2833  |\n",
    "| **Hilbert 15×15**     | 3.3182     | 1.8459     | 3.3182  |\n",
    "| **Vandermonde 5×5**   | 33.8828    | 23.0140    | 31.0    |\n",
    "| **Vandermonde 15×15** | 39455.3614 | 23704.5881 | 32767.0 |\n",
    "| **Losowa 5×5**        | 3.2475     | 2.3515     | 2.8119  |\n",
    "| **Losowa 15×15**      | 9.5389     | 7.5860     | 9.1848  |\n",
    "| **P**                 | 9.0        | 7.0861     | 9.0     |\n"
   ]
  },
  {
   "cell_type": "markdown",
   "id": "posted-novel",
   "metadata": {},
   "source": [
    "***Zadanie 2.***\n",
    "\n",
    "Oblicz wskaźniki uwarunkowania macierzy z poprzedniego zadania.\n",
    "\n",
    "*Wskazówka: Możesz wykorzystać funkcję `numpy.linalg.cond`.*"
   ]
  },
  {
   "cell_type": "code",
   "execution_count": null,
   "id": "74bf9063",
   "metadata": {},
   "outputs": [],
   "source": [
    "| Macierz               | Cond(A)     |\n",
    "| --------------------- | ----------- |\n",
    "| **Hilbert 5×5**       | 4.77 × 10⁵  |\n",
    "| **Hilbert 15×15**     | 3.68 × 10¹⁷ |\n",
    "| **Vandermonde 5×5**   | 4.08 × 10⁴  |\n",
    "| **Vandermonde 15×15** | 2.96 × 10¹⁸ |\n",
    "| **Losowa 5×5**        | 6.55 × 10³  |\n",
    "| **Losowa 15×15**      | 8.54 × 10¹  |\n",
    "| **P**                 | 3.54        |\n"
   ]
  },
  {
   "cell_type": "markdown",
   "id": "bdc325a4",
   "metadata": {},
   "source": [
    "## Rozwiązywanie układów równań metodą eliminacji Gaussa"
   ]
  },
  {
   "cell_type": "markdown",
   "id": "61c219cd",
   "metadata": {},
   "source": [
    "***Zadanie 3.***\n",
    "\n",
    "Jedną z metod rozwiązywania układów równań liniowych jest metoda eliminacji Gaussa. Metoda ta występuje w kilku odmianach. Poza podstawowym wariantem, możliwe jest zastosowanie metody z wyborem elementu głownego (tzw. *pivoting*). \n",
    "\n",
    "Celem tego zadania jest porównanie błędów rozwiązania otrzymanego z tych dwóch wariantów eliminacji Gaussa. Poniżej znajdują się implementacje obu tych metod. Każda z funkcji przyjmuje macierz `A` oraz wektor prawej strony równania `b`.\n",
    "\n",
    "Samo polecenie znajduje się poniżej."
   ]
  },
  {
   "cell_type": "code",
   "execution_count": null,
   "id": "13751725",
   "metadata": {},
   "outputs": [],
   "source": [
    "def gauss_pivot(A, b):\n",
    "    A=A.copy()\n",
    "    b=b.copy()\n",
    "    n = len(b)\n",
    "    for k in range(n-1):\n",
    "        ind_max = k\n",
    "        for j in range(k+1, n):\n",
    "            if abs(A[j,k]) > abs(A[ind_max,k]):\n",
    "                ind_max = j\n",
    "        if ind_max > k:\n",
    "            tmp = A[ind_max,k:n].copy()\n",
    "            A[ind_max,k:n] = A[k,k:n]\n",
    "            A[k,k:n] = tmp\n",
    "            tmp = b[ind_max].copy()\n",
    "            b[ind_max] = b[k]\n",
    "            b[k] = tmp\n",
    "        akk = A[k,k]\n",
    "        l = A[k+1:n,k] / akk\n",
    "        for i in range(k+1, n):\n",
    "            A[i,k] = 0\n",
    "            A[i,k+1:n] = A[i,k+1:n] - l[i-k-1] * A[k,k+1:n]\n",
    "            b[i] = b[i] - l[i-k-1] * b[k]\n",
    "    x = np.zeros(n)\n",
    "    x[n-1] = b[n-1]/A[n-1,n-1]\n",
    "    for k in range(n-2, -1, -1):\n",
    "        x[k] = (b[k] - np.dot(A[k,k+1:n], x[k+1:n])) / A[k,k]\n",
    "    return x"
   ]
  },
  {
   "cell_type": "code",
   "execution_count": null,
   "id": "24ea0c35",
   "metadata": {},
   "outputs": [],
   "source": [
    "def gauss(A, b):\n",
    "    A=A.copy()\n",
    "    b=b.copy()\n",
    "    n = len(b)\n",
    "    for k in range(n-1):\n",
    "        akk = A[k,k]\n",
    "        l = A[k+1:n,k] / akk\n",
    "        for i in range(k+1, n):\n",
    "            A[i,k] = 0\n",
    "            A[i,k+1:n] = A[i,k+1:n] - l[i-k-1] * A[k,k+1:n]\n",
    "            b[i] = b[i] - l[i-k-1] * b[k]\n",
    "    x = np.zeros(n)\n",
    "    x[n-1] = b[n-1] / A[n-1,n-1]\n",
    "    for k in range(n-2, -1, -1):\n",
    "        x[k] = (b[k] - np.dot(A[k,k+1:n], x[k+1:n])) / A[k,k]\n",
    "    return x"
   ]
  },
  {
   "cell_type": "markdown",
   "id": "5ff66813",
   "metadata": {},
   "source": [
    "Stwórz macierze wartości losowych `A` o wymiarach 10x10 oraz wektor `b` o odpowiednich wymiarach. \n",
    "Chcemy rozwiązać układ równań `Ax=b` metodami eliminacji Gaussa bez oraz z wyborem elementu głównego, a następnie porównać dokładność wyników. Metoda z wyborem elementu głównego powinna dawać mniejszy błąd w przypadku dużych wartości znajdujących się na przekątnej. Sprawdź czy to prawda powtarzając obliczenia z  macierzami `A` zawierającym na pierwszym elemencie przekątnej coraz to mniejsze wartości (tak aby wzrosło znaczenie dalszych elementów na przękątnej i tym samym uaktywnił się wybór innego niż pierwszy elementu głównego).\n",
    "\n",
    "Wskazówka:Do porównania możesz wykorzystać residuum. Jeżeli `x` jest rozwiązaniem układu to `Ax` powinno być równe `b`. Residuum to różnica pomiędzy `b` oraz `Ax`: `res=|b-Ax|`. Możesz porównać zawartości poszczególnych elementów lub obliczyć jakąś normę z otrzymanego wektora."
   ]
  },
  {
   "cell_type": "code",
   "execution_count": 1,
   "id": "de122a7f",
   "metadata": {},
   "outputs": [
    {
     "name": "stdout",
     "output_type": "stream",
     "text": [
      "         A[0,0]  Residuum (bez pivot)  Residuum (z pivotem)\n",
      "0  1.000000e+00          2.348465e-15          8.641082e-16\n",
      "1  1.000000e-01          8.547456e-15          5.661049e-16\n",
      "2  1.000000e-02          5.271070e-14          1.310110e-15\n",
      "3  1.000000e-03          3.831344e-13          8.527785e-16\n",
      "4  1.000000e-04          3.737078e-12          8.025154e-16\n",
      "5  1.000000e-05          1.317310e-11          7.049042e-16\n",
      "6  1.000000e-06          7.315971e-10          7.484748e-15\n",
      "7  1.000000e-07          1.166323e-09          6.004449e-16\n",
      "8  1.000000e-08          1.922250e-08          1.355200e-15\n",
      "9  1.000000e-09          1.864310e-07          9.485750e-16\n"
     ]
    }
   ],
   "source": [
    "import numpy as np\n",
    "import pandas as pd\n",
    "\n",
    "def gauss_elimination(A, b):\n",
    "    A = A.copy().astype(float)\n",
    "    b = b.copy().astype(float)\n",
    "    n = len(b)\n",
    "    for i in range(n):\n",
    "        for j in range(i+1, n):\n",
    "            factor = A[j, i] / A[i, i]\n",
    "            A[j, i:] -= factor * A[i, i:]\n",
    "            b[j] -= factor * b[i]\n",
    "    x = np.zeros(n)\n",
    "    for i in reversed(range(n)):\n",
    "        x[i] = (b[i] - np.dot(A[i, i+1:], x[i+1:])) / A[i, i]\n",
    "    return x\n",
    "\n",
    "def gauss_elimination_partial_pivoting(A, b):\n",
    "    A = A.copy().astype(float)\n",
    "    b = b.copy().astype(float)\n",
    "    n = len(b)\n",
    "    for i in range(n):\n",
    "        max_row = np.argmax(np.abs(A[i:, i])) + i\n",
    "        if i != max_row:\n",
    "            A[[i, max_row]] = A[[max_row, i]]\n",
    "            b[[i, max_row]] = b[[max_row, i]]\n",
    "        for j in range(i+1, n):\n",
    "            factor = A[j, i] / A[i, i]\n",
    "            A[j, i:] -= factor * A[i, i:]\n",
    "            b[j] -= factor * b[i]\n",
    "    x = np.zeros(n)\n",
    "    for i in reversed(range(n)):\n",
    "        x[i] = (b[i] - np.dot(A[i, i+1:], x[i+1:])) / A[i, i]\n",
    "    return x\n",
    "\n",
    "# Parametry testu\n",
    "n = 10\n",
    "np.random.seed(42)\n",
    "errors_no_pivot, errors_pivot = [], []\n",
    "diagonal_values = 10.0 ** -np.arange(0, 10)\n",
    "\n",
    "for val in diagonal_values:\n",
    "    A = np.random.rand(n, n)\n",
    "    A[0, 0] = val  # coraz mniejsze wartości na A[0,0]\n",
    "    b = np.random.rand(n)\n",
    "\n",
    "    x_np = gauss_elimination(A, b)\n",
    "    x_pp = gauss_elimination_partial_pivoting(A, b)\n",
    "\n",
    "    res_np = np.linalg.norm(b - A @ x_np)\n",
    "    res_pp = np.linalg.norm(b - A @ x_pp)\n",
    "\n",
    "    errors_no_pivot.append(res_np)\n",
    "    errors_pivot.append(res_pp)\n",
    "\n",
    "# Wyniki w tabeli\n",
    "results_df = pd.DataFrame({\n",
    "    'A[0,0]': diagonal_values,\n",
    "    'Residuum (bez pivot)': errors_no_pivot,\n",
    "    'Residuum (z pivotem)': errors_pivot\n",
    "})\n",
    "\n",
    "print(results_df)\n"
   ]
  },
  {
   "cell_type": "markdown",
   "id": "6205d9cd",
   "metadata": {},
   "source": [
    "## Metody iteracyjne"
   ]
  },
  {
   "cell_type": "markdown",
   "id": "70a7dd5f",
   "metadata": {},
   "source": [
    "Innym sposobem na rozwiązanie układu równań liniowych jest wykorzystanie metod iteracyjnych, które generują ciągi przybliżeń wektora stanowiącego rozwiązanie układu. Państwa zadaniem będzie implementacja i porównanie zbieżności trzech najpopularniejszych metod iteracyjnego rozwiązywania układów równań liniowych"
   ]
  },
  {
   "cell_type": "markdown",
   "id": "254b4846",
   "metadata": {},
   "source": [
    "***Zadanie 4.***\n",
    "\n",
    "Porównanie zbieżności metod Jacobiego, Gaussa-Seidla i Younga (SOR).\n",
    "* Zaimplementuj solvery rozwiązujące układy równań metodami Jacobiego, Gaussa-Seidela  i Younga (SOR). Każda funkcja powinna przyjmować macierz A i wektor prawej strony b. Dla uproszczenia, dopuszczalne jest wykorzystanie  inv dla obliczenia macierzy odwrotnej do macierzy trójkątnej (w metodzie G-S i Younga).\n",
    "* Porównaj zbieżność ciągów iteracyjnych otrzymanych 3 metodami dla 3 układów równań (3 macierzy). W metodzie Younga możesz przyjąć np. $ω = 1.2$.\n",
    "* Dla macierzy, dla której metoda Younga okazała się zbieżna, porównaj zbieżność ciągów iteracyjnych otrzymanych dla wartości $0 < ω < 3$ (dodatkowe).\n",
    "* Dla jakiej wartości parametru $ω$ zbieżność ciągu iteracyjnego jest najlepsza? Wynik otrzymany na podstawie obserwacji ciągu odchyleń od rozwiązania dokładnego należy porównać z wnioskiem płynącym z wykresu zależności promienia spektralnego macierzy iteracji w zależności od parametru $ω$ (dodatkowe)."
   ]
  },
  {
   "cell_type": "code",
   "execution_count": null,
   "id": "0b96ab57",
   "metadata": {},
   "outputs": [],
   "source": [
    "import numpy as np\n",
    "import matplotlib.pyplot as plt\n",
    "\n",
    "# Tworzenie macierzy A i wektora b\n",
    "np.random.seed(0)\n",
    "n = 10\n",
    "A = np.random.rand(n, n)\n",
    "A = A + n * np.eye(n)  # Przekątniowo dominująca\n",
    "x_true = np.ones(n)\n",
    "b = A @ x_true\n",
    "\n",
    "# Funkcja metody SOR\n",
    "def sor_solver(A, b, omega, tol=1e-10, max_iter=10000):\n",
    "    x = np.zeros_like(b)\n",
    "    n = len(b)\n",
    "    res = []\n",
    "    for _ in range(max_iter):\n",
    "        x_new = np.copy(x)\n",
    "        for i in range(n):\n",
    "            sigma1 = np.dot(A[i, :i], x_new[:i])\n",
    "            sigma2 = np.dot(A[i, i + 1:], x[i + 1:])\n",
    "            x_new[i] = (1 - omega) * x[i] + omega * (b[i] - sigma1 - sigma2) / A[i, i]\n",
    "        res_norm = np.linalg.norm(b - A @ x_new)\n",
    "        res.append(res_norm)\n",
    "        if res_norm < tol:\n",
    "            break\n",
    "        x = x_new\n",
    "    return x, res\n",
    "\n",
    "# Testujemy dla różnych wartości omega\n",
    "omegas = np.linspace(0.1, 2.9, 30)\n",
    "iterations = []\n",
    "\n",
    "for omega in omegas:\n",
    "    _, res = sor_solver(A, b, omega)\n",
    "    iterations.append(len(res))\n",
    "\n",
    "# Rysujemy wykres\n",
    "plt.figure(figsize=(12, 6))\n",
    "plt.plot(omegas, iterations, marker='o')\n",
    "plt.xlabel('ω (parametr SOR)')\n",
    "plt.ylabel('Liczba iteracji')\n",
    "plt.title('Zbieżność metody SOR w zależności od ω')\n",
    "plt.grid(True)\n",
    "plt.show()\n"
   ]
  },
  {
   "cell_type": "markdown",
   "id": "5719a332",
   "metadata": {},
   "source": [
    "## Porównanie rozwiązania za pomocą metody `solve` oraz z użyciem odwrotności na przykładzie macierzy źle uwarunkowanej"
   ]
  },
  {
   "cell_type": "markdown",
   "id": "integral-blade",
   "metadata": {},
   "source": [
    "***Zadanie 5.***\n",
    "\n",
    "Dany jest układ równań $Hx=b$.\n",
    "* H jest macierzą Hilberta o wymiarach $n=5x5$ (I przypadek) i $n=15x15$ (II przypadek),\n",
    "* b jest wektorem o następujących elementach $b_i = 1/(n + i + 1)$ Uwaga: $i=1,\\dots,n$.\n",
    "\n",
    "Do rozwiązania układu wykorzystaj dwa algorytmy:\n",
    "1. Z odwracaniem macierzy współczynników H.\n",
    "2. Metodę `numpy.linalg.solve`.\n",
    "\n",
    "Porównaj błędy obu rozwiązań. Aby ocenić błąd możesz:\n",
    "* wyznaczyć wektor residuum otrzymanego rozwiązania,\n",
    "* rozwiązać układ równań z innym wektorem $b$. Załóż, że wektor rozwiązania ma wszystkie elementy (współrzędne) równe 1 ($u_i = 1, i = 1, 2, . . . , n$). Wtedy $b = Hu$. Układ rozwiążemy bez korzystania z wiedzy o postaci $u$. Dopiero wynik porównamy ze znanym nam $u$."
   ]
  },
  {
   "cell_type": "code",
   "execution_count": 4,
   "id": "killing-cancer",
   "metadata": {},
   "outputs": [
    {
     "name": "stdout",
     "output_type": "stream",
     "text": [
      "=== Przypadek n=5 ===\n",
      "{'Residuum (inv)': np.float64(6.252738611079423e-13), 'Residuum (solve)': np.float64(8.441528768080324e-17), 'Błąd względem u (inv)': None, 'Błąd względem u (solve)': None}\n",
      "{'Residuum (inv)': np.float64(1.0845156636916551e-11), 'Residuum (solve)': np.float64(2.7194799110210365e-16), 'Błąd względem u (inv)': np.float64(9.159957913835852e-11), 'Błąd względem u (solve)': np.float64(3.7629505159417226e-12)}\n",
      "=== Przypadek n=15 ===\n",
      "{'Residuum (inv)': np.float64(0.2988578677362017), 'Residuum (solve)': np.float64(5.994417230841114e-16), 'Błąd względem u (inv)': None, 'Błąd względem u (solve)': None}\n",
      "{'Residuum (inv)': np.float64(2.419377536588241), 'Residuum (solve)': np.float64(1.211110335867595e-15), 'Błąd względem u (inv)': np.float64(1738.3681104580382), 'Błąd względem u (solve)': np.float64(19.093927784534166)}\n"
     ]
    }
   ],
   "source": [
    "import numpy as np\n",
    "\n",
    "def hilbert_matrix(n):\n",
    "    H = np.zeros((n, n))\n",
    "    for i in range(n):\n",
    "        for j in range(n):\n",
    "            H[i, j] = 1 / (i + j + 1)\n",
    "    return H\n",
    "\n",
    "# Funkcja do tworzenia wektora b\n",
    "def create_b(n):\n",
    "    return np.array([1 / (n + i + 1) for i in range(n)])\n",
    "\n",
    "# Funkcja do porównania metod\n",
    "def compare_methods(H, b, u_true=None):\n",
    "    # Odwracanie macierzy\n",
    "    x_inv = np.linalg.inv(H) @ b\n",
    "    res_inv = np.linalg.norm(H @ x_inv - b)\n",
    "\n",
    "    # Solve z numpy\n",
    "    x_solve = np.linalg.solve(H, b)\n",
    "    res_solve = np.linalg.norm(H @ x_solve - b)\n",
    "\n",
    "    # Porównanie z u, jeśli znane\n",
    "    err_inv = np.linalg.norm(x_inv - u_true) if u_true is not None else None\n",
    "    err_solve = np.linalg.norm(x_solve - u_true) if u_true is not None else None\n",
    "\n",
    "    return {\n",
    "        \"Residuum (inv)\": res_inv,\n",
    "        \"Residuum (solve)\": res_solve,\n",
    "        \"Błąd względem u (inv)\": err_inv,\n",
    "        \"Błąd względem u (solve)\": err_solve\n",
    "    }\n",
    "\n",
    "# Przypadek 1: n = 5\n",
    "n = 5\n",
    "H = hilbert_matrix(n)  # tutaj poprawka\n",
    "b = create_b(n)\n",
    "u = np.ones(n)\n",
    "b_known = H @ u\n",
    "\n",
    "print(\"=== Przypadek n=5 ===\")\n",
    "print(compare_methods(H, b))\n",
    "print(compare_methods(H, b_known, u_true=u))\n",
    "\n",
    "# Przypadek 2: n = 15\n",
    "n = 15\n",
    "H = hilbert_matrix(n)  # tutaj poprawka\n",
    "b = create_b(n)\n",
    "u = np.ones(n)\n",
    "b_known = H @ u\n",
    "\n",
    "print(\"=== Przypadek n=15 ===\")\n",
    "print(compare_methods(H, b))\n",
    "print(compare_methods(H, b_known, u_true=u))\n"
   ]
  },
  {
   "cell_type": "markdown",
   "id": "22ae3d15",
   "metadata": {},
   "source": [
    "**Zadanie domowe. Znaczenie wskaźnika uwarunkowania macierzy w szacowaniu błędu rozwiązania**\n",
    "\n",
    "\n",
    "Dana jest następująca macierz A współczynników układu dwóch równań liniowy:\n",
    "$$A=\\begin{bmatrix}10^5 & 9.9\\cdot10^4\\\\1.00001& 0.99\\end{bmatrix}$$\n",
    "\n",
    "Wektor prawej strony równania $Ax=b$ dla rozwiązania x = $[1, 1]^T$ możemy wyznaczyć z równości $b = Ax$.\n",
    "\n",
    "Należy:\n",
    "* obliczyć wskaźnik uwarunkowania macierzy $A$,\n",
    "* rozwiązać układ równań $Ax = b$ (nie korzystając z wiedzy o przyjętym rozwiązaniu dokładnym x) korzystając z funkcji `np.linalg.solve`,\n",
    "* ocenić błąd otrzymanego rozwiązania i porównać go z błędem szacowanym za pomocą wskaźnika uwarunkowania macierzy A,\n",
    "* przeprowadzić skalowanie tak, aby macierz $A$ była wyważona wierszami,\n",
    "* wyznaczyć nowe wartości wektora b tak, aby rozwiązanie dokładne się nie\n",
    "zmieniło,\n",
    "* obliczyć wskaźnik uwarunkowania macierzy skalowanej,\n",
    "* rozwiązać układ równań tą samą metodą jak poprzednio,\n",
    "* ocenić błąd otrzymanego rozwiązania i porównać go z błędem szacowanym za pomocą wskaźnika uwarunkowania skalowanej macierzy $A$.\n",
    "1. Czy błąd numeryczny rozwiązania w obu przypadkach jest tego samego rzędu?\n",
    "2. Które szacowanie błędu jest bardziej zbliżone do faktycznego błędu?"
   ]
  },
  {
   "cell_type": "code",
   "execution_count": 5,
   "id": "5067fa3f",
   "metadata": {},
   "outputs": [
    {
     "name": "stdout",
     "output_type": "stream",
     "text": [
      "Macierz A:\n",
      "[[1.00000e+05 9.90000e+04]\n",
      " [1.00001e+00 9.90000e-01]]\n",
      "Wskaźnik uwarunkowania macierzy A: 2.00e+10\n",
      "Rozwiązanie x_sol: [1. 1.]\n",
      "Rzeczywisty błąd rozwiązania: 1.58e-11\n",
      "Residuum ||b - A x_sol||: 2.22e-16\n",
      "Szacowany błąd na podstawie wskaźnika uwarunkowania: 2.23e-11\n",
      "\n",
      "Po skalowaniu wierszami:\n",
      "Macierz A_scaled:\n",
      "[[0.71065111 0.7035446 ]\n",
      " [0.71065463 0.70354104]]\n",
      "Wskaźnik uwarunkowania macierzy A_scaled: 4.00e+05\n",
      "Rozwiązanie x_sol_scaled: [1. 1.]\n",
      "Rzeczywisty błąd rozwiązania skalowanego: 2.22e-11\n",
      "Residuum ||b_scaled - A_scaled x_sol_scaled||: 0.00e+00\n",
      "Szacowany błąd na podstawie wskaźnika uwarunkowania macierzy skalowanej: 0.00e+00\n",
      "\n",
      "Wnioski:\n",
      "1. Czy błąd numeryczny w obu przypadkach jest tego samego rzędu? Tak\n",
      "2. Szacowanie błędu jest bardziej dokładne dla macierzy skalowanej.\n"
     ]
    }
   ],
   "source": [
    "import numpy as np\n",
    "\n",
    "# Dane\n",
    "A = np.array([[1e5, 9.9e4],\n",
    "              [1.00001, 0.99]])\n",
    "x_true = np.array([1, 1])\n",
    "\n",
    "# Wyliczamy b = A x_true\n",
    "b = A @ x_true\n",
    "\n",
    "# 1. Wskaźnik uwarunkowania macierzy A (w normie 2)\n",
    "cond_A = np.linalg.cond(A)\n",
    "\n",
    "# 2. Rozwiązujemy Ax = b (bez wiedzy o x_true)\n",
    "x_sol = np.linalg.solve(A, b)\n",
    "\n",
    "# 3. Obliczamy błąd rzeczywisty i porównujemy z błędem szacowanym\n",
    "error_real = np.linalg.norm(x_sol - x_true)\n",
    "residuum = np.linalg.norm(b - A @ x_sol)\n",
    "\n",
    "# Szacowany błąd: cond(A) * (relatywny błąd wektora b)\n",
    "rel_error_b = np.linalg.norm(b - A @ x_true) / np.linalg.norm(b)  # tu jest zero, bo b = A x_true\n",
    "# Ale w praktyce błąd powstaje w obliczeniach - możemy oszacować z residuum (b - A x_sol)\n",
    "error_estimated = cond_A * residuum / np.linalg.norm(b)\n",
    "\n",
    "print(\"Macierz A:\")\n",
    "print(A)\n",
    "print(f\"Wskaźnik uwarunkowania macierzy A: {cond_A:.2e}\")\n",
    "print(f\"Rozwiązanie x_sol: {x_sol}\")\n",
    "print(f\"Rzeczywisty błąd rozwiązania: {error_real:.2e}\")\n",
    "print(f\"Residuum ||b - A x_sol||: {residuum:.2e}\")\n",
    "print(f\"Szacowany błąd na podstawie wskaźnika uwarunkowania: {error_estimated:.2e}\")\n",
    "\n",
    "# 4. Skalowanie macierzy A (wyważenie wierszami)\n",
    "row_norms = np.linalg.norm(A, axis=1)\n",
    "D = np.diag(1 / row_norms)  # macierz diagonalna do skalowania wierszy\n",
    "A_scaled = D @ A\n",
    "b_scaled = D @ b\n",
    "\n",
    "# 5. Wektor b po skalowaniu aby rozwiązanie się nie zmieniło (u_true to samo)\n",
    "# Już jest b_scaled = D @ b = D @ A @ x_true = A_scaled @ x_true, więc jest OK\n",
    "\n",
    "# 6. Wskaźnik uwarunkowania macierzy skalowanej\n",
    "cond_A_scaled = np.linalg.cond(A_scaled)\n",
    "\n",
    "# 7. Rozwiązujemy układ skalowany\n",
    "x_sol_scaled = np.linalg.solve(A_scaled, b_scaled)\n",
    "\n",
    "# 8. Oceniamy błąd i porównujemy z szacowaniem\n",
    "error_real_scaled = np.linalg.norm(x_sol_scaled - x_true)\n",
    "residuum_scaled = np.linalg.norm(b_scaled - A_scaled @ x_sol_scaled)\n",
    "error_estimated_scaled = cond_A_scaled * residuum_scaled / np.linalg.norm(b_scaled)\n",
    "\n",
    "print(\"\\nPo skalowaniu wierszami:\")\n",
    "print(\"Macierz A_scaled:\")\n",
    "print(A_scaled)\n",
    "print(f\"Wskaźnik uwarunkowania macierzy A_scaled: {cond_A_scaled:.2e}\")\n",
    "print(f\"Rozwiązanie x_sol_scaled: {x_sol_scaled}\")\n",
    "print(f\"Rzeczywisty błąd rozwiązania skalowanego: {error_real_scaled:.2e}\")\n",
    "print(f\"Residuum ||b_scaled - A_scaled x_sol_scaled||: {residuum_scaled:.2e}\")\n",
    "print(f\"Szacowany błąd na podstawie wskaźnika uwarunkowania macierzy skalowanej: {error_estimated_scaled:.2e}\")\n",
    "\n",
    "# 9. Wnioski:\n",
    "print(\"\\nWnioski:\")\n",
    "print(f\"1. Czy błąd numeryczny w obu przypadkach jest tego samego rzędu? {'Tak' if np.isclose(error_real, error_real_scaled, rtol=1e-1) else 'Nie'}\")\n",
    "print(\"2. Szacowanie błędu jest bardziej dokładne dla macierzy skalowanej.\" if error_estimated_scaled < error_estimated else\n",
    "      \"2. Szacowanie błędu jest bardziej dokładne dla macierzy oryginalnej.\")\n"
   ]
  }
 ],
 "metadata": {
  "kernelspec": {
   "display_name": "Python 3",
   "language": "python",
   "name": "python3"
  },
  "language_info": {
   "codemirror_mode": {
    "name": "ipython",
    "version": 3
   },
   "file_extension": ".py",
   "mimetype": "text/x-python",
   "name": "python",
   "nbconvert_exporter": "python",
   "pygments_lexer": "ipython3",
   "version": "3.12.0"
  }
 },
 "nbformat": 4,
 "nbformat_minor": 5
}
